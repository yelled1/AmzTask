{
 "cells": [
  {
   "cell_type": "markdown",
   "metadata": {},
   "source": [
    "# Analysis with Random Forest class 1st shot\n",
    "### Thorowing in all potentials imports - including the kitchen sink (needs clean up)"
   ]
  },
  {
   "cell_type": "code",
   "execution_count": 1,
   "metadata": {},
   "outputs": [],
   "source": [
    "import os\n",
    "import pandas as pd\n",
    "import numpy as np\n",
    "#import pydotplus\n",
    "\n",
    "import plotly.graph_objs as go\n",
    "import dash\n",
    "import dash_core_components as dcc\n",
    "import dash_html_components as html\n",
    "from dash.dependencies import Input, Output\n",
    "\n",
    "from tqdm import tqdm\n",
    "from pathlib import Path\n",
    "\n",
    "from load_data import load_parse_save\n",
    "#from scipy import stats\n",
    "#import pydotplus\n",
    "#import graphviz\n",
    "from sklearn import metrics\n",
    "from sklearn.metrics import f1_score\n",
    "from sklearn.metrics import confusion_matrix\n",
    "from sklearn.metrics import roc_auc_score, mean_squared_error, mean_absolute_error\n",
    "from sklearn.model_selection import train_test_split\n",
    "#from sklearn.preprocessing import LabelBinarizer\n",
    "from xgboost import XGBClassifier\n",
    "from sklearn.ensemble import RandomForestClassifier\n",
    "from imblearn.datasets import make_imbalance\n",
    "from collections import Counter\n",
    "from sklearn.ensemble import AdaBoostClassifier\n",
    "from sklearn.tree import DecisionTreeClassifier"
   ]
  },
  {
   "cell_type": "code",
   "execution_count": 2,
   "metadata": {},
   "outputs": [],
   "source": [
    "def resample_split_data(df, resample_ratio=1.0, test_size=0.3, seed=None, debug=False):\n",
    "    \"\"\"\n",
    "    Resample data based on minor classification multiples, as boosting does NOT quite do the job\n",
    "    Using only train & test as data availability is limited to have validation set\n",
    "    And not part of this excercis\n",
    "    \"\"\"\n",
    "    y = df['Fails']\n",
    "    X = df[['count', 'm1_max' ,'m1_mean' ,'m1_min' ,'m2_max', 'm2_mean', 'm2_min',\n",
    "                          'm3_max', 'm3_mean', 'm3_min', 'm4_max', 'm4_mean', 'm4_min',\n",
    "                          'm5_max', 'm5_mean', 'm5_min', 'm6_max', 'm6_mean', 'm6_min',\n",
    "                          'm7_max', 'm7_mean', 'm7_min', 'm8_max', 'm8_mean', 'm8_min',\n",
    "                          'm9_max', 'm9_mean', 'm9_min']]\n",
    "    # get the min of either (max available dominant classification or multiple of minor classification\n",
    "    dominant_resample_count = min(int(y.sum() * resample_ratio), y.shape[0] - y.sum())\n",
    "    X_res, y_res = make_imbalance(X, y,\n",
    "                                  sampling_strategy={True: y.sum(), False: dominant_resample_count},\n",
    "                                  random_state=42)\n",
    "    if debug:\n",
    "        print('Distribution before imbalancing: {}'.format(Counter(y)))\n",
    "        print('Distribution after  imbalancing: {}'.format(Counter(y_res)))\n",
    "    # return split data (1-test_size) 70% training & test_size 30% test data\n",
    "    return train_test_split(X_res, y_res, test_size=test_size)\n",
    "\n",
    "def print_prediction_results(test_y, predict_y):\n",
    "    \"\"\" Quick print statement to look at stats of the model \n",
    "        F1 is really important as that reduces downtime accuracy is NOT as\n",
    "    \"\"\" \n",
    "    conf_mtx = confusion_matrix(test_y, predict_y)\n",
    "    print(\"Result from confusion_matrix\\n{}\\n\".format(conf_mtx))\n",
    "\n",
    "    print(\"Training data had {} data points & {} fails\".format(y_train.shape[0], y_train.sum()))\n",
    "    print(\"Testing  data had {} data points & {} fails\".format(test_y.shape[0], test_y.sum()))\n",
    "    print(\"Out of {} Fails, predicted {} or {:,.1f}% correctly\".format(\n",
    "        conf_mtx[1,:].sum(), conf_mtx[1,1], 100 * conf_mtx[1,1] / conf_mtx[1,:].sum()))\n",
    "\n",
    "    print(\"Accuracy: {:,.3f}%\".format(100 * metrics.accuracy_score(test_y, predict_y)))\n",
    "    print(\"*F1_score = {:,.1f}%\".format(100 * f1_score(test_y, predict_y, 'binary')))"
   ]
  },
  {
   "cell_type": "markdown",
   "metadata": {},
   "source": [
    "### Load data & mark any prior & fail metrics as Failed set "
   ]
  },
  {
   "cell_type": "code",
   "execution_count": 3,
   "metadata": {},
   "outputs": [],
   "source": [
    "# Load Data from csv file & process via load_parse_save\n",
    "pkl_file = './parsed_dataframe.pkl'\n",
    "if os.path.isfile(pkl_file):\n",
    "    # Alternative is Load from Pickled set: Saves Time \n",
    "    prev_df = pd.read_pickle(pkl_file)\n",
    "else:\n",
    "    tqdm.pandas(desc='load & parse csv')\n",
    "    prev_df = load_parse_save(save_file='./parsed_dataframe.pkl', debug=True)"
   ]
  },
  {
   "cell_type": "markdown",
   "metadata": {},
   "source": [
    "### Add column Fail_set & mark it\n",
    "This is a bit too close for comfort. \n",
    "Ideally, we would cut off data at least 7 days prior to Failure if possible, \n",
    "as one does NOT want to wait until last min. \n",
    "#### So, this will be an improvement for later\n",
    "Only the data prev to fail is one group & other group is no Failure + post Failure\n",
    "#### N.B.: This only works because there is only ONE failure for each device.\n",
    "Must deal with multiple Fails on a device with a bit more sophistication"
   ]
  },
  {
   "cell_type": "code",
   "execution_count": 4,
   "metadata": {},
   "outputs": [],
   "source": [
    "prev_df['Fail_set'] = prev_df.daysDelta.apply(lambda x: True if x <= 0.0 else False)"
   ]
  },
  {
   "cell_type": "markdown",
   "metadata": {},
   "source": [
    "# look at devices level & create group level Stat!\n",
    "### Need to think of better stats The idea is that extreme values on the metrics are likely indicator of an issue"
   ]
  },
  {
   "cell_type": "code",
   "execution_count": 5,
   "metadata": {},
   "outputs": [],
   "source": [
    "# devices = pd.DataFrame(prev_df.device.value_counts().reset_index())\n",
    "    \n",
    "f =  lambda x: pd.Series({\n",
    "      'Fails' : True if x['failure'].sum() > 0 else False,\n",
    "      'count' : x['date'].count(),\n",
    "      'm1_max': x['metric1'].max(), 'm1_mean': x['metric1'].mean(), 'm1_min': x['metric1'].min(), 'm1_std' : x['metric1'].std(),\n",
    "      'm2_max': x['metric2'].max(), 'm2_mean': x['metric2'].mean(), 'm2_min': x['metric2'].min(), 'm2_std' : x['metric2'].std(),\n",
    "      'm3_max': x['metric3'].max(), 'm3_mean': x['metric3'].mean(), 'm3_min': x['metric3'].min(), 'm3_std' : x['metric3'].std(),\n",
    "      'm4_max': x['metric4'].max(), 'm4_mean': x['metric4'].mean(), 'm4_min': x['metric4'].min(), 'm4_std' : x['metric4'].std(),\n",
    "      'm5_max': x['metric5'].max(), 'm5_mean': x['metric5'].mean(), 'm5_min': x['metric5'].min(), 'm5_std' : x['metric5'].std(),\n",
    "      'm6_max': x['metric6'].max(), 'm6_mean': x['metric6'].mean(), 'm6_min': x['metric6'].min(), 'm6_std' : x['metric6'].std(),\n",
    "      'm7_max': x['metric7'].max(), 'm7_mean': x['metric7'].mean(), 'm7_min': x['metric7'].min(), 'm7_std' : x['metric7'].std(),\n",
    "      'm8_max': x['metric8'].max(), 'm8_mean': x['metric8'].mean(), 'm8_min': x['metric8'].min(), 'm8_std' : x['metric8'].std(),\n",
    "      'm9_max': x['metric9'].max(), 'm9_mean': x['metric9'].mean(), 'm9_min': x['metric9'].min(), 'm9_std' : x['metric9'].std(),\n",
    "  })\n",
    "   \n",
    "ggrp = prev_df.groupby(['device'])\n",
    "groupd_prev_stat = ggrp.apply(f)\n",
    "#groupd_prev_stat.head()"
   ]
  },
  {
   "cell_type": "markdown",
   "metadata": {},
   "source": [
    "### Split the data into Train & Test, then use Random Forest to Predict\n",
    "#### Not sure RF is a good model as results are volatile"
   ]
  },
  {
   "cell_type": "code",
   "execution_count": 6,
   "metadata": {},
   "outputs": [
    {
     "name": "stdout",
     "output_type": "stream",
     "text": [
      "Distribution before imbalancing: Counter({False: 1063, True: 106})\n",
      "Distribution after  imbalancing: Counter({True: 106, False: 53})\n"
     ]
    }
   ],
   "source": [
    "X_train, X_test, y_train, y_test = resample_split_data(groupd_prev_stat, resample_ratio=.5, debug=True)\n",
    "\n",
    "RF_clf = RandomForestClassifier(n_estimators=100)\n",
    "\n",
    "#Train the model using the training sets y_pred=clf.predict(X_test)\n",
    "RF_clf.fit(X_train,y_train)\n",
    "\n",
    "y_pred = RF_clf.predict(X_test)"
   ]
  },
  {
   "cell_type": "markdown",
   "metadata": {},
   "source": [
    "## Accuracy of the model\n",
    "#### N.B. General Accuracy is extremely misleading as imbalance class issue comes up\n",
    "Only 20% ~ 50% of True fails & F1_score 25% ~ 55% achieved\n",
    "Needs higher % on the True fails & F1 + Results needs to be less ***Volatile***\n",
    "#### This is business decision as some business cannot tolerate any fails/downtime like electronic manufacturing.\n",
    "In this case nearly or all potential fails must be investigated even if few dozen UnFails creep in for every REAL Failures."
   ]
  },
  {
   "cell_type": "code",
   "execution_count": 7,
   "metadata": {},
   "outputs": [
    {
     "name": "stdout",
     "output_type": "stream",
     "text": [
      "Result from confusion_matrix\n",
      "[[10  5]\n",
      " [ 6 27]]\n",
      "\n",
      "Training data had 111 data points & 73 fails\n",
      "Testing  data had 48 data points & 33 fails\n",
      "Out of 33 Fails, predicted 27 or 81.8% correctly\n",
      "Accuracy: 77.083%\n",
      "*F1_score = 83.1%\n"
     ]
    }
   ],
   "source": [
    "print_prediction_results(y_test, y_pred)"
   ]
  },
  {
   "cell_type": "markdown",
   "metadata": {},
   "source": [
    "# Boosted Models\n",
    "For imbalanced data usual techniques are:\n",
    "- Random over & under Resampling (Either can disregard useful data w/ undersample or overfit w/ oversample)\n",
    "- Clustered over-sampling (outperfoms underampling & outperforms it, but often over fits)\n",
    "- SMOT (Synthetic Minority Over-sampling Technique): Really difficult wiht hi-dim data\n",
    "- Bagging: Only works if based classifiers distribution is not extreme\n",
    "- Various Boosting (Ada, Gradient, & XG): Ada Sensitive, XG fast & less prone to issues"
   ]
  },
  {
   "cell_type": "code",
   "execution_count": 8,
   "metadata": {},
   "outputs": [
    {
     "name": "stdout",
     "output_type": "stream",
     "text": [
      "Distribution before imbalancing: Counter({False: 1063, True: 106})\n",
      "Distribution after  imbalancing: Counter({True: 106, False: 53})\n"
     ]
    }
   ],
   "source": [
    "X_train, X_test, y_train, y_test = resample_split_data(groupd_prev_stat, resample_ratio=.5, debug=True)\n",
    "\n",
    "#boost_clf = AdaBoostClassifier( DecisionTreeClassifier(max_depth=1), n_estimators=200 )\n",
    "\n",
    "boost_clf = XGBClassifier()\n",
    "\n",
    "boost_clf.fit(X_train, y_train)\n",
    "predictions = boost_clf.predict(X_test)"
   ]
  },
  {
   "cell_type": "markdown",
   "metadata": {},
   "source": [
    "### *** Volatile F1 65~75% ***\n",
    "- The results are better F1 score & hit ratio, but still very data random selection dependent.\n",
    "- Likely results of using max/min from the metrics + needs better agg_metrics/factors\n",
    "- The confusion matrix seems to indicate that model is still dominated by dominant classifier.\n",
    "- Indicating that results may be better with Either sampling or SMOT \n",
    "- Indicating that results may be better with Either sampling or SMOT "
   ]
  },
  {
   "cell_type": "code",
   "execution_count": 9,
   "metadata": {},
   "outputs": [
    {
     "name": "stdout",
     "output_type": "stream",
     "text": [
      "Result from confusion_matrix\n",
      "[[10  9]\n",
      " [ 1 28]]\n",
      "\n",
      "Training data had 111 data points & 77 fails\n",
      "Testing  data had 48 data points & 29 fails\n",
      "Out of 29 Fails, predicted 28 or 96.6% correctly\n",
      "Accuracy: 79.167%\n",
      "*F1_score = 84.8%\n"
     ]
    }
   ],
   "source": [
    "print_prediction_results(y_test, predictions)"
   ]
  },
  {
   "cell_type": "code",
   "execution_count": null,
   "metadata": {},
   "outputs": [],
   "source": []
  },
  {
   "cell_type": "code",
   "execution_count": null,
   "metadata": {},
   "outputs": [],
   "source": []
  }
 ],
 "metadata": {
  "kernelspec": {
   "display_name": "Python 3",
   "language": "python",
   "name": "python3"
  },
  "language_info": {
   "codemirror_mode": {
    "name": "ipython",
    "version": 3
   },
   "file_extension": ".py",
   "mimetype": "text/x-python",
   "name": "python",
   "nbconvert_exporter": "python",
   "pygments_lexer": "ipython3",
   "version": "3.7.3"
  }
 },
 "nbformat": 4,
 "nbformat_minor": 4
}
