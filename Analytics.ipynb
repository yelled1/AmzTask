{
 "cells": [
  {
   "cell_type": "markdown",
   "metadata": {},
   "source": [
    "# Analysis with Random Forest class 1st shot\n",
    "### Thorowing in all potentials: including the kitchen sink (needs clean up)"
   ]
  },
  {
   "cell_type": "code",
   "execution_count": 1,
   "metadata": {},
   "outputs": [],
   "source": [
    "import pandas as pd\n",
    "import numpy as np\n",
    "import time\n",
    "import pydotplus\n",
    "import plotly.graph_objs as go\n",
    "import dash\n",
    "import dash_core_components as dcc\n",
    "import dash_html_components as html\n",
    "from dash.dependencies import Input, Output\n",
    "from tqdm import tqdm\n",
    "from pathlib import Path\n",
    "from load_data import load_parse_save\n",
    "from hlper_func import train_validate_test_split\n",
    "from sklearn.model_selection import train_test_split\n",
    "from scipy import stats\n",
    "import pydotplus\n",
    "import graphviz\n",
    "from sklearn.ensemble import RandomForestClassifier\n",
    "from sklearn import metrics\n",
    "from sklearn.metrics import roc_auc_score,mean_squared_error, mean_absolute_error\n",
    "from sklearn.preprocessing import LabelBinarizer"
   ]
  },
  {
   "cell_type": "markdown",
   "metadata": {},
   "source": [
    "### Load data & mark any prior & fail metrics as Failed set "
   ]
  },
  {
   "cell_type": "code",
   "execution_count": 2,
   "metadata": {},
   "outputs": [],
   "source": [
    "# Load Data from csv file & process via load_parse_save\n",
    "tqdm.pandas(desc='load & parse csv')\n",
    "#prev_df = load_parse_save(save_file='./parsed_dataframe.pkl', debug=True)\n",
    "#prev_df.to_csv('/tmp/prev_maint_parsed.csv')\n",
    "\n",
    "# Alternative is Load from Pickled set: Saves Time \n",
    "prev_df = pd.read_pickle('./parsed_dataframe.pkl')\n",
    "#test_g_df = test_df[((test_df.daysDelta.isna()) | (test_df.daysDelta > 0.0))] #.to_csv('/tmp/test_base.csv')"
   ]
  },
  {
   "cell_type": "markdown",
   "metadata": {},
   "source": [
    "### Add column Fail_set & mark it\n",
    "This is a bit too close for comfort. \n",
    "Ideally, we would cut off data at least 7 days prior to Failure if possible, \n",
    "as one does NOT want to wait until last min. \n",
    "#### So, this will be an improvement for later\n",
    "Only the data prev to fail is one group & other group is no Failure + post Failure\n",
    "#### N.B.: This only works because there is only ONE failure for each device.\n",
    "Must deal with multiple Fails on a device with a bit more sophistication"
   ]
  },
  {
   "cell_type": "code",
   "execution_count": 3,
   "metadata": {},
   "outputs": [],
   "source": [
    "prev_df['Fail_set'] = prev_df.daysDelta.apply(lambda x: True if x <= 0.0 else False)"
   ]
  },
  {
   "cell_type": "markdown",
   "metadata": {},
   "source": [
    "# look at devices level & create group level Stat!\n",
    "### Need to think of better stats The idea is that extreme values on the metrics are likely indicator of an issue"
   ]
  },
  {
   "cell_type": "code",
   "execution_count": 46,
   "metadata": {},
   "outputs": [],
   "source": [
    "# devices = pd.DataFrame(prev_df.device.value_counts().reset_index())\n",
    "    \n",
    "f =  lambda x: pd.Series({\n",
    "      'Fails' : True if x['failure'].sum() > 0 else False,\n",
    "      'count' : x['date'].count(),\n",
    "      'm1_max': x['metric1'].max(), 'm1_mean': x['metric1'].mean(), 'm1_min': x['metric1'].min(), 'm1_std' : x['metric1'].std(),\n",
    "      'm2_max': x['metric2'].max(), 'm2_mean': x['metric2'].mean(), 'm2_min': x['metric2'].min(), 'm2_std' : x['metric2'].std(),\n",
    "      'm3_max': x['metric3'].max(), 'm3_mean': x['metric3'].mean(), 'm3_min': x['metric3'].min(), 'm3_std' : x['metric3'].std(),\n",
    "      'm4_max': x['metric4'].max(), 'm4_mean': x['metric4'].mean(), 'm4_min': x['metric4'].min(), 'm4_std' : x['metric4'].std(),\n",
    "      'm5_max': x['metric5'].max(), 'm5_mean': x['metric5'].mean(), 'm5_min': x['metric5'].min(), 'm5_std' : x['metric5'].std(),\n",
    "      'm6_max': x['metric6'].max(), 'm6_mean': x['metric6'].mean(), 'm6_min': x['metric6'].min(), 'm6_std' : x['metric6'].std(),\n",
    "      'm7_max': x['metric7'].max(), 'm7_mean': x['metric7'].mean(), 'm7_min': x['metric7'].min(), 'm7_std' : x['metric7'].std(),\n",
    "      'm8_max': x['metric8'].max(), 'm8_mean': x['metric8'].mean(), 'm8_min': x['metric8'].min(), 'm8_std' : x['metric8'].std(),\n",
    "      'm9_max': x['metric9'].max(), 'm9_mean': x['metric9'].mean(), 'm9_min': x['metric9'].min(), 'm9_std' : x['metric9'].std(),\n",
    "  })\n",
    "   \n",
    "ggrp = prev_df.groupby(['device'])\n",
    "groupd_prev_stat = ggrp.apply(f)\n",
    "#groupd_prev_stat.head()"
   ]
  },
  {
   "cell_type": "markdown",
   "metadata": {},
   "source": [
    "### Split the data into Train & Test, then use Random Forest to Predict\n",
    "#### Not sure RF is a good model as results are volatile"
   ]
  },
  {
   "cell_type": "code",
   "execution_count": 47,
   "metadata": {},
   "outputs": [
    {
     "name": "stdout",
     "output_type": "stream",
     "text": [
      "(818, 28) (351, 28)\n"
     ]
    }
   ],
   "source": [
    "y = groupd_prev_stat['Fails']\n",
    "X = groupd_prev_stat[['count', 'm1_max' ,'m1_mean' ,'m1_min' ,'m2_max', 'm2_mean', 'm2_min', \n",
    "                      'm3_max', 'm3_mean', 'm3_min', 'm4_max', 'm4_mean', 'm4_min', \n",
    "                      'm5_max', 'm5_mean', 'm5_min', 'm6_max', 'm6_mean', 'm6_min', \n",
    "                      'm7_max', 'm7_mean', 'm7_min', 'm8_max', 'm8_mean', 'm8_min', \n",
    "                      'm9_max', 'm9_mean', 'm9_min']]\n",
    "\n",
    "X_train, X_test, y_train, y_test = train_test_split(X, y, test_size=0.3) # 70% training and 30% test\n",
    "\n",
    "                     \n",
    "print(X_train.shape, X_test.shape)\n",
    "# Model Accuracy, how often is the classifier correct?\n",
    "\n",
    "clf=RandomForestClassifier(n_estimators=100)\n",
    "\n",
    "#Train the model using the training sets y_pred=clf.predict(X_test)\n",
    "clf.fit(X_train,y_train)\n",
    "\n",
    "y_pred=clf.predict(X_test)"
   ]
  },
  {
   "cell_type": "markdown",
   "metadata": {},
   "source": [
    "## Accuracy of the model\n",
    "#### N.B. General Accuracy is extremely misleading as imbalance class issue comes up\n",
    "Only 20% ~ 50% of True fails & F1_score 25% ~ 55% achieved\n",
    "Needs higher % on the True fails & F1 + Results needs to be less ***Volatile***\n",
    "#### This is business decision as some business cannot tolerate any fails/downtime like electronic manufacturing.\n",
    "In this case nearly or all potential fails must be investigated even if few dozen UnFails creep in for every REAL Failures."
   ]
  },
  {
   "cell_type": "code",
   "execution_count": 48,
   "metadata": {},
   "outputs": [
    {
     "name": "stdout",
     "output_type": "stream",
     "text": [
      "Accuracy: 92.593%\n",
      "Out of 34 Fails, predicted 13 or 38.2% correctly\n",
      "F1_score = 50.0%\n"
     ]
    }
   ],
   "source": [
    "from sklearn.metrics import f1_score\n",
    "\n",
    "print(\"Accuracy: {:,.3f}%\".format(100 * metrics.accuracy_score(y_test, y_pred)))\n",
    "\n",
    "got_fail_df = pd.DataFrame(y_test)\n",
    "got_fail_df['pred'] = y_pred\n",
    "True_fails = got_fail_df.Fails.sum()\n",
    "fail_correct_count = (got_fail_df[(got_fail_df.Fails == True)].sum(axis=1) > 1).sum()\n",
    "print(\"Out of {} Fails, predicted {} or {:,.1f}% correctly\".format(True_fails, fail_correct_count, 100*fail_correct_count/True_fails)) \n",
    "\n",
    "print(\"F1_score = {:,.1f}%\".format(100 * f1_score(y_test, y_pred, 'binary')))"
   ]
  },
  {
   "cell_type": "markdown",
   "metadata": {},
   "source": [
    "# Boosted Models\n",
    "For imbalanced data usual techniques are:\n",
    "- Random over & under Resampling (Either can disregard useful data w/ undersample or overfit w/ oversample)\n",
    "- Clustered over-sampling (outperfoms underampling & outperforms it, but often over fits)\n",
    "- SMOT (Synthetic Minority Over-sampling Technique): Really difficult wiht hi-dim data\n",
    "- Bagging: Only works if based classifiers distribution is not extreme\n",
    "- Various Boosting (Ada, Gradient, & XG): Ada Sensitive, XG fast & less prone to issues"
   ]
  },
  {
   "cell_type": "code",
   "execution_count": 49,
   "metadata": {},
   "outputs": [],
   "source": [
    "from xgboost import XGBClassifier\n",
    "from sklearn.ensemble import AdaBoostClassifier\n",
    "from sklearn.tree import DecisionTreeClassifier\n",
    "from sklearn.metrics import confusion_matrix\n",
    "\n",
    "X_train, X_test, y_train, y_test = train_test_split(X, y, test_size=0.3) # 70% training and 30% test\n",
    "\n",
    "# Started out w/ AdaBoost & not saftifying\n",
    "#classifier = AdaBoostClassifier(\n",
    "#    DecisionTreeClassifier(max_depth=1),\n",
    "#    n_estimators=200\n",
    "#)\n",
    "\n",
    "classifier = XGBClassifier()\n",
    "\n",
    "classifier.fit(X_train, y_train)\n",
    "predictions = classifier.predict(X_test)"
   ]
  },
  {
   "cell_type": "markdown",
   "metadata": {},
   "source": [
    "### *** Volatile F1 65~75% ***\n",
    "- The results are better F1 score & hit ratio, but still very data random selection dependent.\n",
    "- Likely results of using max/min from the metrics + needs better agg_metrics/factors\n",
    "- The confusion matrix seems to indicate that model is still dominated by dominant classifier.\n",
    "- Indicating that results may be better with Either sampling or SMOT \n",
    "- Indicating that results may be better with Either sampling or SMOT "
   ]
  },
  {
   "cell_type": "code",
   "execution_count": 44,
   "metadata": {},
   "outputs": [
    {
     "name": "stdout",
     "output_type": "stream",
     "text": [
      "[[315   5]\n",
      " [ 11  20]]\n",
      "Accuracy: 95.442%\n",
      "Training data had 818 data points & 75 fails\n",
      "Testing  data had 351 data points & 31 fails\n",
      "Out of 31 Fails, predicted 20 or 64.5% correctly\n",
      "F1_score = 71.4%\n"
     ]
    }
   ],
   "source": [
    "print(confusion_matrix(y_test, predictions))\n",
    "print(\"Accuracy: {:,.3f}%\".format(100 * metrics.accuracy_score(y_test, predictions)))\n",
    "\n",
    "print(\"Training data had {} data points & {} fails\".format(y_train.shape[0], y_train.sum()))\n",
    "print(\"Testing  data had {} data points & {} fails\".format(y_test.shape[0], y_test.sum()))\n",
    "got_fail_df = pd.DataFrame(y_test)\n",
    "got_fail_df['pred'] = predictions\n",
    "True_fails = got_fail_df.Fails.sum()\n",
    "fail_correct_count = (got_fail_df[(got_fail_df.Fails == True)].sum(axis=1) > 1).sum()\n",
    "print(\"Out of {} Fails, predicted {} or {:,.1f}% correctly\".format(True_fails, fail_correct_count, 100*fail_correct_count/True_fails)) \n",
    "\n",
    "print(\"F1_score = {:,.1f}%\".format(100 * f1_score(y_test, predictions, 'binary')))"
   ]
  },
  {
   "cell_type": "code",
   "execution_count": null,
   "metadata": {},
   "outputs": [],
   "source": []
  },
  {
   "cell_type": "code",
   "execution_count": null,
   "metadata": {},
   "outputs": [],
   "source": []
  }
 ],
 "metadata": {
  "kernelspec": {
   "display_name": "Python 3",
   "language": "python",
   "name": "python3"
  },
  "language_info": {
   "codemirror_mode": {
    "name": "ipython",
    "version": 3
   },
   "file_extension": ".py",
   "mimetype": "text/x-python",
   "name": "python",
   "nbconvert_exporter": "python",
   "pygments_lexer": "ipython3",
   "version": "3.7.3"
  }
 },
 "nbformat": 4,
 "nbformat_minor": 4
}
