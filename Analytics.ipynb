{
 "cells": [
  {
   "cell_type": "markdown",
   "metadata": {},
   "source": [
    "# Analysis with Random Forest class 1st shot\n",
    "### Thorowing in all potentials imports - including the kitchen sink (needs clean up)"
   ]
  },
  {
   "cell_type": "code",
   "execution_count": 1,
   "metadata": {},
   "outputs": [],
   "source": [
    "import os\n",
    "import pandas as pd\n",
    "import numpy as np\n",
    "from tqdm import tqdm\n",
    "from pathlib import Path\n",
    "\n",
    "import plotly.graph_objs as go\n",
    "import dash\n",
    "import dash_core_components as dcc\n",
    "import dash_html_components as html\n",
    "from dash.dependencies import Input, Output\n",
    "\n",
    "#from scipy import stats\n",
    "#import pydotplus\n",
    "#import graphviz\n",
    "\n",
    "from collections import Counter\n",
    "from imblearn.datasets import make_imbalance\n",
    "from sklearn.ensemble import RandomForestClassifier\n",
    "from sklearn.ensemble import AdaBoostClassifier\n",
    "from sklearn.tree import DecisionTreeClassifier\n",
    "from xgboost import XGBClassifier\n",
    "\n",
    "from load_data import load_parse_save\n",
    "from hlp_analysis import resample_split_data, print_prediction_results"
   ]
  },
  {
   "cell_type": "markdown",
   "metadata": {},
   "source": [
    "### Load data & mark any prior & fail metrics as Failed set "
   ]
  },
  {
   "cell_type": "code",
   "execution_count": 2,
   "metadata": {},
   "outputs": [],
   "source": [
    "# Load Data from csv file & process via load_parse_save\n",
    "pkl_file = './parsed_dataframe.pkl'\n",
    "if os.path.isfile(pkl_file):\n",
    "    # Alternative is Load from Pickled set: Saves Time \n",
    "    prev_df = pd.read_pickle(pkl_file)\n",
    "else:\n",
    "    tqdm.pandas(desc='load & parse csv')\n",
    "    prev_df = load_parse_save(save_file='./parsed_dataframe.pkl', debug=True)"
   ]
  },
  {
   "cell_type": "markdown",
   "metadata": {},
   "source": [
    "### Add column Fail_set & mark it\n",
    "This is a bit too close for comfort. \n",
    "Ideally, we would cut off data at least 7 days prior to Failure if possible, \n",
    "as one does NOT want to wait until last min. \n",
    "#### So, this will be an improvement for later\n",
    "Only the data prev to fail is one group & other group is no Failure + post Failure\n",
    "#### N.B.: This only works because there is only ONE failure for each device.\n",
    "Must deal with multiple Fails on a device with a bit more sophistication"
   ]
  },
  {
   "cell_type": "code",
   "execution_count": 3,
   "metadata": {},
   "outputs": [],
   "source": [
    "prev_df['Fail_set'] = prev_df.daysDelta.apply(lambda x: True if x <= 0.0 else False)"
   ]
  },
  {
   "cell_type": "markdown",
   "metadata": {},
   "source": [
    "# look at devices level & create group level Stat!\n",
    "### Need to think of better stats The idea is that extreme values on the metrics are likely indicator of an issue"
   ]
  },
  {
   "cell_type": "code",
   "execution_count": 4,
   "metadata": {},
   "outputs": [],
   "source": [
    "# devices = pd.DataFrame(prev_df.device.value_counts().reset_index())\n",
    "    \n",
    "f =  lambda x: pd.Series({\n",
    "      'Fails' : True if x['failure'].sum() > 0 else False,\n",
    "      'count' : x['date'].count(),\n",
    "      'm1_max': x['metric1'].max(), 'm1_mean': x['metric1'].mean(), 'm1_min': x['metric1'].min(), 'm1_std' : x['metric1'].std(),\n",
    "      'm2_max': x['metric2'].max(), 'm2_mean': x['metric2'].mean(), 'm2_min': x['metric2'].min(), 'm2_std' : x['metric2'].std(),\n",
    "      'm3_max': x['metric3'].max(), 'm3_mean': x['metric3'].mean(), 'm3_min': x['metric3'].min(), 'm3_std' : x['metric3'].std(),\n",
    "      'm4_max': x['metric4'].max(), 'm4_mean': x['metric4'].mean(), 'm4_min': x['metric4'].min(), 'm4_std' : x['metric4'].std(),\n",
    "      'm5_max': x['metric5'].max(), 'm5_mean': x['metric5'].mean(), 'm5_min': x['metric5'].min(), 'm5_std' : x['metric5'].std(),\n",
    "      'm6_max': x['metric6'].max(), 'm6_mean': x['metric6'].mean(), 'm6_min': x['metric6'].min(), 'm6_std' : x['metric6'].std(),\n",
    "      'm7_max': x['metric7'].max(), 'm7_mean': x['metric7'].mean(), 'm7_min': x['metric7'].min(), 'm7_std' : x['metric7'].std(),\n",
    "      'm8_max': x['metric8'].max(), 'm8_mean': x['metric8'].mean(), 'm8_min': x['metric8'].min(), 'm8_std' : x['metric8'].std(),\n",
    "      'm9_max': x['metric9'].max(), 'm9_mean': x['metric9'].mean(), 'm9_min': x['metric9'].min(), 'm9_std' : x['metric9'].std(), })\n",
    "   \n",
    "ggrp = prev_df.groupby(['device'])\n",
    "groupd_prev_stat = ggrp.apply(f)"
   ]
  },
  {
   "cell_type": "code",
   "execution_count": 4,
   "metadata": {},
   "outputs": [],
   "source": []
  },
  {
   "cell_type": "markdown",
   "metadata": {},
   "source": [
    "### Split the data into Train & Test, then use Random Forest to Predict\n",
    "#### Not sure RF is a good model as results are volatile"
   ]
  },
  {
   "cell_type": "code",
   "execution_count": 5,
   "metadata": {},
   "outputs": [
    {
     "name": "stdout",
     "output_type": "stream",
     "text": [
      "Distribution before imbalancing: Counter({False: 1063, True: 106})\n",
      "Distribution after  imbalancing: Counter({True: 106, False: 53})\n"
     ]
    }
   ],
   "source": [
    "from sklearn.model_selection import train_test_split\n",
    "\n",
    "X_train, X_test, y_train, y_test = resample_split_data(groupd_prev_stat, resample_ratio=.5, debug=True)\n",
    "\n",
    "RF_clf = RandomForestClassifier(n_estimators=100)\n",
    "\n",
    "#Train the model using the training sets y_pred=clf.predict(X_test)\n",
    "RF_clf.fit(X_train,y_train)\n",
    "\n",
    "y_pred = RF_clf.predict(X_test)"
   ]
  },
  {
   "cell_type": "markdown",
   "metadata": {},
   "source": [
    "## Accuracy of the model\n",
    "#### N.B. General Accuracy is extremely misleading as imbalance class issue comes up\n",
    "Only 20% ~ 50% of True fails & F1_score 25% ~ 55% achieved w/o imbalance adj\n",
    "This climbs to around 80~90+% with adj\n",
    "#### This is business decision as some business cannot tolerate any fails/downtime like electronic manufacturing.\n",
    "In this case nearly or all potential fails must be investigated even if few dozen UnFails creep in for every REAL Failures."
   ]
  },
  {
   "cell_type": "code",
   "execution_count": 6,
   "metadata": {},
   "outputs": [
    {
     "name": "stdout",
     "output_type": "stream",
     "text": [
      "Result from confusion_matrix\n",
      "[[ 8  6]\n",
      " [ 3 31]]\n",
      "\n",
      "Training data had 111 data points & 72 fails\n",
      "Testing  data had 48 data points & 34 fails\n",
      "Out of 34 Fails, predicted 31 or 91.2% correctly\n",
      "Accuracy: 81.250%\n",
      "*F1_score = 87.3%\n"
     ]
    }
   ],
   "source": [
    "from sklearn.metrics import accuracy_score, f1_score, confusion_matrix\n",
    "\n",
    "print_prediction_results(y_train, y_test, y_pred)"
   ]
  },
  {
   "cell_type": "markdown",
   "metadata": {},
   "source": [
    "# Boosted Models\n",
    "For imbalanced data usual techniques are:\n",
    "- Random over & under Resampling (Either can disregard useful data w/ undersample or overfit w/ oversample)\n",
    "- Clustered over-sampling (outperfoms underampling & outperforms it, but often over fits)\n",
    "- SMOT (Synthetic Minority Over-sampling Technique): Really difficult wiht hi-dim data\n",
    "- Bagging: Only works if based classifiers distribution is not extreme\n",
    "- Various Boosting (Ada, Gradient, & XG): Ada Sensitive, XG fast & less prone to issues"
   ]
  },
  {
   "cell_type": "code",
   "execution_count": 7,
   "metadata": {},
   "outputs": [
    {
     "name": "stdout",
     "output_type": "stream",
     "text": [
      "Distribution before imbalancing: Counter({False: 1063, True: 106})\n",
      "Distribution after  imbalancing: Counter({True: 106, False: 53})\n"
     ]
    }
   ],
   "source": [
    "X_train, X_test, y_train, y_test = resample_split_data(groupd_prev_stat, resample_ratio=.5, debug=True)\n",
    "\n",
    "#boost_clf = AdaBoostClassifier( DecisionTreeClassifier(max_depth=1), n_estimators=200 )\n",
    "\n",
    "boost_clf = XGBClassifier()\n",
    "\n",
    "boost_clf.fit(X_train, y_train)\n",
    "predictions = boost_clf.predict(X_test)"
   ]
  },
  {
   "cell_type": "markdown",
   "metadata": {},
   "source": [
    "### *** Volatile F1 65-75% wo/ imbalance adj BUT climbs to 85-90% w/ adj ***\n",
    "- The results are better F1 score & hit ratio, but still very data random selection dependent.\n",
    "- Likely results of using max/min from the metrics + needs better agg_metrics/factors\n",
    "- The confusion matrix seems to indicate that model is still dominated by dominant classifier.\n",
    "- Indicating that results may be better with Either sampling or SMOT \n",
    "- So, reduced resample ratio to 1/2 of the minor classification, which is a bit extreme\n",
    "- Ada or XG boost do about 3+/-% better on F1 score vs RF\n",
    "- Highest F1 was about 98%, which is unusual but given small data not unusual"
   ]
  },
  {
   "cell_type": "code",
   "execution_count": 8,
   "metadata": {},
   "outputs": [
    {
     "name": "stdout",
     "output_type": "stream",
     "text": [
      "Result from confusion_matrix\n",
      "[[13  0]\n",
      " [ 6 29]]\n",
      "\n",
      "Training data had 111 data points & 71 fails\n",
      "Testing  data had 48 data points & 35 fails\n",
      "Out of 35 Fails, predicted 29 or 82.9% correctly\n",
      "Accuracy: 87.500%\n",
      "*F1_score = 90.6%\n"
     ]
    }
   ],
   "source": [
    "print_prediction_results(y_train, y_test, predictions)"
   ]
  },
  {
   "cell_type": "code",
   "execution_count": null,
   "metadata": {},
   "outputs": [],
   "source": []
  }
 ],
 "metadata": {
  "kernelspec": {
   "display_name": "Python 3",
   "language": "python",
   "name": "python3"
  },
  "language_info": {
   "codemirror_mode": {
    "name": "ipython",
    "version": 3
   },
   "file_extension": ".py",
   "mimetype": "text/x-python",
   "name": "python",
   "nbconvert_exporter": "python",
   "pygments_lexer": "ipython3",
   "version": "3.7.3"
  }
 },
 "nbformat": 4,
 "nbformat_minor": 4
}
